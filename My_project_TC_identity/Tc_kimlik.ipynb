{
 "cells": [
  {
   "cell_type": "code",
   "execution_count": 42,
   "metadata": {
    "tags": []
   },
   "outputs": [
    {
     "output_type": "stream",
     "name": "stdout",
     "text": "[2, 1, 2, 6, 8, 3, 9, 6, 1, 8, 6]\n138\nTC kimlik numarası geçerlidir\n"
    }
   ],
   "source": [
    "TCkimlik=21268396186\n",
    "mylist=[int(i) for i in str(TCkimlik)]\n",
    "print(mylist)\n",
    "#Python derleri 2 de buna benzer bir soru çözümü var\n",
    "def tckimlik(n):\n",
    "    sum1=(mylist[0]+mylist[2]+mylist[4]+mylist[6]+mylist[8])*7\n",
    "    mult=mylist[1]+mylist[3]+mylist[5]+mylist[7]\n",
    "    result1=sum1-mult\n",
    "    print(result1)\n",
    "    if result1%10!=mylist[9] and sum(mylist[:10])%10!=mylist[10]:\n",
    "        print('TC kimlik numarası geçersizdir')\n",
    "    else:\n",
    "        print('TC kimlik numarası geçerlidir')\n",
    "tckimlik(TCkimlik)\n"
   ]
  },
  {
   "cell_type": "code",
   "execution_count": 53,
   "metadata": {
    "tags": []
   },
   "outputs": [
    {
     "output_type": "stream",
     "name": "stdout",
     "text": "-38\n"
    }
   ],
   "source": []
  },
  {
   "cell_type": "code",
   "execution_count": null,
   "metadata": {},
   "outputs": [],
   "source": []
  },
  {
   "cell_type": "code",
   "execution_count": null,
   "metadata": {},
   "outputs": [],
   "source": []
  }
 ],
 "metadata": {
  "language_info": {
   "codemirror_mode": {
    "name": "ipython",
    "version": 3
   },
   "file_extension": ".py",
   "mimetype": "text/x-python",
   "name": "python",
   "nbconvert_exporter": "python",
   "pygments_lexer": "ipython3",
   "version": "3.8.2-final"
  },
  "orig_nbformat": 2,
  "kernelspec": {
   "name": "python38264bit3f4bc9d21b0a470cb598dcfc81df52f4",
   "display_name": "Python 3.8.2 64-bit"
  }
 },
 "nbformat": 4,
 "nbformat_minor": 2
}